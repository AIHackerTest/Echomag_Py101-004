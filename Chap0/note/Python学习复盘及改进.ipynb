{
 "cells": [
  {
   "cell_type": "markdown",
   "metadata": {},
   "source": [
    "\n",
    "\n",
    "### 170808 0wd2\n",
    "---\n",
    "昨晚下载安装各种软件，被自己搞得晕头转向，python3也没有运行起来。今天重新设置了环境变量，可用了。\n",
    "\n",
    "今天把cmder, atom, jupyter notebook用起来了。共花了1.5h\n",
    "\n",
    "- 练习笨办法ex24 `0.3h`\n",
    "- 练习笨办法ex25 `0.5h`\n",
    "\n",
    "命令行打开jupyter notebook，如果关闭，页面会显示中断，需要打开两个cml一个运行，一个开jupyter notebook\n"
   ]
  },
  {
   "cell_type": "markdown",
   "metadata": {},
   "source": [
    "用Cmder更换目录\n",
    "```\n",
    "#更改目录到指定文件D:\\PythonTools\\chr0\\；到E盘\n",
    "C:\\Users \n",
    "λ cd /d D:\\PythonTools\\chr0\\\n",
    "λ cd /d E:\\\n",
    "```"
   ]
  },
  {
   "cell_type": "markdown",
   "metadata": {
    "collapsed": true
   },
   "source": [
    "### 170809 0wd3\n",
    "---\n",
    "\n",
    ">**一开始你会觉得他们很难掌握。但等到某一天，你会刷地一下豁然开朗。**  \n",
    "\n",
    "期待这一天的到来\n",
    "\n",
    "- 练习笨办法ex26.py `0.3`h\n",
    "- 练习笨办法ex27.py ex28.py `0.3`h\n",
    "- 练习笨办法ex29.py `0.3`h\n",
    "\n",
    "今天使用了一个python写的软件，报错了估摸着是不是因为默认是python3的问题，更改了环境path后，默认变成Python2了，晚上敲代码发现怎么path没有变。但是python默认是2.7了。自己也不明白中间发生了什么。最后解决的方法是在python3的安装路径下复制python.exe粘贴，重命名为python3。"
   ]
  },
  {
   "cell_type": "markdown",
   "metadata": {
    "collapsed": true
   },
   "source": [
    "### 170810 0wd4 \n",
    "---\n",
    "\n",
    "今天做练习，写了if的教程，看开学典礼直播\n",
    "\n",
    "- 练习笨办法ex30.py 0.3h\n",
    "- 练习笨办法ex31.py 0.5h\n",
    "- 写if教程，教6个月前自己学if条件句，还不完善  0.5h\n"
   ]
  },
  {
   "cell_type": "markdown",
   "metadata": {},
   "source": [
    "### 170811 0wd5\n",
    "---\n",
    "每天记录的重点应该是完成任务后的复盘和改进，不是单纯的记录今天做了啥啥啥\n",
    "\n",
    "**计划**\n",
    "- 完成ex33-ex36练习\n",
    "- 写 for 循环和while循环的教程\n",
    "- 写复盘和改进\n",
    "\n",
    "**实际完成**\n",
    "- 完成ex33-ex35练习  1.5h\n",
    "- 写复盘和改进\n",
    "\n",
    "**复盘和改进**\n",
    "+ 复盘\n",
    " - 被手机干扰了，练习中途聊了一会天\n",
    " - ex35的附加练习判断键入数字的方式，思路是”输入的内容是数字为真”，尝试了用`if int(next):`这样虽然输了数字可以进入下一个if但输入字符串就会报错，就到网上去搜索了'python 输入为数字为真'，找到了一个功能是`next.isdigit()`可用于判断输入是否是一个整型数值。\n",
    " - 学到了exit(0)可以用来中断程序\n",
    "\n",
    "\n",
    "+ 改进\n",
    " - 练习时关闭通讯的声音，每一个小时看一个有没有需要立即回复的，没有的话就做完练习再回应\n",
    " - 计划有些多，要适当\n",
    "\n",
    "\n",
    "+ 明天计划\n",
    " - 完成ex36-ex40\n"
   ]
  },
  {
   "cell_type": "markdown",
   "metadata": {
    "collapsed": true
   },
   "source": [
    "### 170813 1wd0\n",
    "---\n",
    "连上昨天的内容\n",
    "\n",
    "**实际完成**\n",
    "- 完成ex36-ex40练习  3h\n",
    "- 写教程并上传\n",
    "\n"
   ]
  }
 ],
 "metadata": {
  "kernelspec": {
   "display_name": "Python 3",
   "language": "python",
   "name": "python3"
  },
  "language_info": {
   "codemirror_mode": {
    "name": "ipython",
    "version": 3
   },
   "file_extension": ".py",
   "mimetype": "text/x-python",
   "name": "python",
   "nbconvert_exporter": "python",
   "pygments_lexer": "ipython3",
   "version": "3.6.1"
  }
 },
 "nbformat": 4,
 "nbformat_minor": 2
}
