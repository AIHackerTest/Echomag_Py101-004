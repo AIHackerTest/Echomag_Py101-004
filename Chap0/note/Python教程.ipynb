{
 "cells": [
  {
   "cell_type": "markdown",
   "metadata": {},
   "source": [
    "# Python教程—给6个月前的自己\n",
    "\n",
    "\n",
    "> 给6个月前的自己:\n",
    "> 嘿，6个月前的我，那时是你刚想学Python的时候，想做出改变，想证明自己可以上手编程。\n",
    "> 现在的我打算把你教会，然后你就可以站在那里大吼“   ”，心中无惧。\n",
    "\n",
    "\n",
    "  \n",
    "#### 说点什么\n",
    "- 用惯了windows的你，知道要用什么程序只要双击就可以，什么软件都会有一个用户界面，不同的按钮、下拉菜单都提示着你点这里的作用。现在你要学编程了，要知道，除了你熟悉的用户界面外，还有一种可以打开软件，进行操作的方式，就是使用**命令行**，你告诉他正确的命令，他就执行，不正确就会报错。执行不同的任务有不同的命令，比如更换目录是`cd`，列出目录下的内容是`ls`。运行软件只需输入软件名称。把命令行用起来只需要记住一些基本的操作即可。\n",
    "\n",
    "- 在windows里自带的是最原始的是cmd,它不好看也不好用，目前就用课程推荐的cmder，它可以用linux的操作命令哟。\n",
    "- 还有什么要说的话，就是去敲代码吧。\n",
    "- 首先是需要掌握一些简单的概念\n",
    "\n",
    "### 基础概念\n",
    "\n",
    "#### 变量\n",
    "\n",
    "+ 变量可以存放东西，后续可以在多个位置直接使用它\n",
    "+ 变量名要以字母开头，是字母、数字、下划线的组合\n",
    "+ 用`=`赋值，变量在左边，右边是变量的内容\n",
    "+ 变量可以是数字、字符串、列表，也可以是其他的一些东西，以后你就会知道\n",
    "\n",
    "```\n",
    "var1 = 100 # 整型数字\n",
    "var2 = 100.2 # 浮点数\n",
    "var3 = \"This is var3\" # 字符串\n",
    "var4 = ['aaa', 'bbb', 'ccc'] # 列表\n",
    "\n",
    "```\n",
    "\n",
    "#### 数据类型\n",
    "在变量里出现过的数字、字符串、列表都是Python的数据类型，除此以外还有字典等\n",
    "\n",
    "+ Number（数字）\n",
    " - 整型数: 整数`4`, `600`,`1000`\n",
    " - 浮点数: 有小数点`4.0`,`23.6`\n",
    "\n",
    "+ String（字符串）\n",
    " -放在`\" \"`或`' '`内的字母和数字：`\"AaBbCc\" ` ,`'abc123'`\n",
    "\n",
    "+ List（列表） 参考ex25\n",
    "\n",
    " - 以`[ ` 开头，以`]`结尾，中间用`,`隔开\n",
    " - `the_count = [1, 2, 3, 4, 5]`   `fruits = ['apples', 'oranges', 'pears', 'apricots'] `\n",
    " - 有序的，可以通过位置取出相应的元素,位置是从0开始计数\n",
    " \n",
    "```\n",
    "fruits = ['apples', 'oranges', 'pears', 'apricots'] \n",
    "fruits[0] # 位置0是'apples'\n",
    "fruit[3]  # 位置3是'apricots'\n",
    "```\n",
    "\n",
    "+ Dictionary（字典）\n",
    "\n",
    "\n",
    "#### if 条件语句\n",
    "- if为代码创建了分支，每一个分支有一个条件去判断代码的走向，如果满足条件就执行相应的内容\n",
    "- Python会运行第一个True的代码块\n",
    "+ 完整模式是这样的\n",
    " - 一个条件加上一个代码块\n",
    " - 使用时可以用这样的组合：`if`和代码块；`if`和`elif`的代码块；`if`和 `else`代码块\n",
    " - if 里还可以嵌套 if\n",
    " - 格式\n",
    "```\n",
    "if condition-1:    #如果condition-1为True\n",
    "    code-1         #那么执行code-1\n",
    "elif condition-2:  #如果condition-2为True\n",
    "    code-2         #那么执行code-2\n",
    "elif condition-3:  #如果condition-3为True\n",
    "    code-3         #那么执行code-3\n",
    "......             #此处可以有很多elif的代码块\n",
    "else:              #以上所有条件都不满足\n",
    "    code-n         #那么执行code-n\n",
    "```\n",
    "\n",
    "*示例*"
   ]
  },
  {
   "cell_type": "code",
   "execution_count": 4,
   "metadata": {},
   "outputs": [
    {
     "name": "stdout",
     "output_type": "stream",
     "text": [
      "a less than b\n"
     ]
    }
   ],
   "source": [
    "a = 1; b =4\n",
    "if a < b:\n",
    "    print(\"a less than b\")\n",
    "elif a > b:\n",
    "    print(\"a greater than b\")\n",
    "else:\n",
    "    print(\"a equal to b\")"
   ]
  },
  {
   "cell_type": "markdown",
   "metadata": {},
   "source": [
    "\n",
    "#### 循环语句\n",
    "1， for 循环\n",
    "\n",
    "- 格式\n",
    "\n",
    "```\n",
    "for var in list:\n",
    "    code\n",
    "```\n",
    "\n",
    "*示例*"
   ]
  },
  {
   "cell_type": "code",
   "execution_count": 10,
   "metadata": {},
   "outputs": [
    {
     "name": "stdout",
     "output_type": "stream",
     "text": [
      "0\n",
      "1\n",
      "2\n",
      "3\n",
      "4\n",
      "5\n",
      "1\n",
      "2\n",
      "3\n",
      "4\n",
      "5\n",
      "A fruit of type: apples\n",
      "A fruit of type: oranges\n",
      "A fruit of type: pears\n",
      "A fruit of type: apricots\n"
     ]
    }
   ],
   "source": [
    "for i in range(0,6):\n",
    "    print(i)\n",
    "\n",
    "the_count = [1, 2, 3, 4, 5]\n",
    "\n",
    "for number in the_count:\n",
    "    print(number)\n",
    "\n",
    "fruits = ['apples', 'oranges', 'pears', 'apricots']\n",
    "\n",
    "for fruit in fruits:\n",
    "    print(\"A fruit of type: %s\" % fruit)"
   ]
  },
  {
   "cell_type": "markdown",
   "metadata": {},
   "source": [
    "2， while 循环\n",
    "- 格式\n",
    "\n",
    "```\n",
    "while condition:    #如果condition为True\n",
    "    code         #那么执行code\n",
    "```\n",
    "\n",
    "*示例*"
   ]
  },
  {
   "cell_type": "code",
   "execution_count": null,
   "metadata": {},
   "outputs": [],
   "source": [
    "i = 0\n",
    "numbers = []\n",
    "\n",
    "while i < 6:\n",
    "    print(\"At the top i is %d\" % i)\n",
    "    numbers.append(i)\n",
    "    i = i + 1\n",
    "    print(\"numbers now: \",numbers)"
   ]
  }
 ],
 "metadata": {
  "kernelspec": {
   "display_name": "Python 3",
   "language": "python",
   "name": "python3"
  },
  "language_info": {
   "codemirror_mode": {
    "name": "ipython",
    "version": 3
   },
   "file_extension": ".py",
   "mimetype": "text/x-python",
   "name": "python",
   "nbconvert_exporter": "python",
   "pygments_lexer": "ipython3",
   "version": "3.6.1"
  }
 },
 "nbformat": 4,
 "nbformat_minor": 2
}
